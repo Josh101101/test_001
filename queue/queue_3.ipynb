{
 "cells": [
  {
   "cell_type": "markdown",
   "metadata": {},
   "source": [
    "# Implementation Using Linked Lists\n"
   ]
  },
  {
   "cell_type": "markdown",
   "metadata": {},
   "source": []
  },
  {
   "cell_type": "code",
   "execution_count": 11,
   "metadata": {},
   "outputs": [],
   "source": [
    "class Node:\n",
    "    def __init__(self,value):\n",
    "        self.value = value\n",
    "        self.next = None\n",
    "        \n",
    "    "
   ]
  },
  {
   "cell_type": "code",
   "execution_count": 12,
   "metadata": {},
   "outputs": [],
   "source": [
    "class LinkedListQueue:\n",
    "    def __init__(self):\n",
    "        self.front = None\n",
    "        self.rear = None\n",
    "        \n",
    "    def enqueue(self,item):\n",
    "        new_node = Node(item)\n",
    "        if self.rear is None:      # Queue is empty\n",
    "            self.front = self.rear = new_node\n",
    "        else:\n",
    "            self.rear.next = new_node\n",
    "            self.rear = new_node\n",
    "        self.print_queue()\n",
    "        \n",
    "    \n",
    "    def dequeue(self):\n",
    "        if self.front is None:\n",
    "            print(\"Queue is empty!\")\n",
    "            return None\n",
    "        \n",
    "        removed = self.front.value\n",
    "        self.front = self.front.next\n",
    "        \n",
    "        if self.front is None:           # If queue becomes empty\n",
    "            self.rear = None\n",
    "            \n",
    "        \n",
    "        print(f\"Dequeued: {removed}\")\n",
    "        self.print_queue()\n",
    "        return removed\n",
    "    \n",
    "    \n",
    "    def isempty(self):\n",
    "        return self.front is None\n",
    "    \n",
    "    def peek(self):\n",
    "        if not self.isempty():\n",
    "            return self.front.value\n",
    "        \n",
    "        else:\n",
    "            print(\"Queue is Empty!\")\n",
    "            \n",
    "            \n",
    "    def print_queue(self):\n",
    "        current = self.front\n",
    "        queue_list = []\n",
    "        \n",
    "        while current:\n",
    "            queue_list.append(current.value)\n",
    "            current = current.next\n",
    "            \n",
    "        print(f\"Queue: {queue_list}\")\n",
    "    \n",
    "    "
   ]
  },
  {
   "cell_type": "code",
   "execution_count": 13,
   "metadata": {},
   "outputs": [],
   "source": [
    "q = LinkedListQueue()"
   ]
  },
  {
   "cell_type": "code",
   "execution_count": 14,
   "metadata": {},
   "outputs": [
    {
     "data": {
      "text/plain": [
       "True"
      ]
     },
     "execution_count": 14,
     "metadata": {},
     "output_type": "execute_result"
    }
   ],
   "source": [
    "q.isempty()"
   ]
  },
  {
   "cell_type": "code",
   "execution_count": 15,
   "metadata": {},
   "outputs": [
    {
     "name": "stdout",
     "output_type": "stream",
     "text": [
      "Queue: [45]\n"
     ]
    }
   ],
   "source": [
    "q.enqueue(45)"
   ]
  },
  {
   "cell_type": "code",
   "execution_count": 16,
   "metadata": {},
   "outputs": [
    {
     "data": {
      "text/plain": [
       "False"
      ]
     },
     "execution_count": 16,
     "metadata": {},
     "output_type": "execute_result"
    }
   ],
   "source": [
    "q.isempty()"
   ]
  },
  {
   "cell_type": "code",
   "execution_count": 17,
   "metadata": {},
   "outputs": [
    {
     "name": "stdout",
     "output_type": "stream",
     "text": [
      "Queue: [45, 55]\n",
      "Queue: [45, 55, 66]\n",
      "Queue: [45, 55, 66, 77]\n",
      "Queue: [45, 55, 66, 77, 88]\n",
      "Queue: [45, 55, 66, 77, 88, 99]\n"
     ]
    }
   ],
   "source": [
    "q.enqueue(55)\n",
    "q.enqueue(66)\n",
    "q.enqueue(77)\n",
    "q.enqueue(88)\n",
    "q.enqueue(99)"
   ]
  },
  {
   "cell_type": "code",
   "execution_count": 18,
   "metadata": {},
   "outputs": [
    {
     "name": "stdout",
     "output_type": "stream",
     "text": [
      "Queue: [45, 55, 66, 77, 88, 99]\n"
     ]
    }
   ],
   "source": [
    "q.print_queue()"
   ]
  },
  {
   "cell_type": "code",
   "execution_count": 21,
   "metadata": {},
   "outputs": [
    {
     "data": {
      "text/plain": [
       "<__main__.Node at 0x20d0f505c10>"
      ]
     },
     "execution_count": 21,
     "metadata": {},
     "output_type": "execute_result"
    }
   ],
   "source": [
    "q.rear"
   ]
  },
  {
   "cell_type": "code",
   "execution_count": null,
   "metadata": {},
   "outputs": [],
   "source": []
  },
  {
   "cell_type": "code",
   "execution_count": null,
   "metadata": {},
   "outputs": [],
   "source": []
  },
  {
   "cell_type": "markdown",
   "metadata": {},
   "source": []
  },
  {
   "cell_type": "markdown",
   "metadata": {},
   "source": [
    "- Queues can also be implemented using a linked list data structure. In this approach, we use a linked list to store the elements of the queue, with the front and rear pointers keeping track of the first and last nodes, respectively.\n",
    "\n",
    "- In this implementation, we use a Node class to represent each node in the linked list. The Queue class maintains the front and rear pointers to keep track of the first and last nodes in the queue, respectively.\n",
    "\n",
    "The main operations are:\n",
    "- - Enqueue: Add a new node to the rear of the queue.\n",
    "- - Dequeue: Remove and return the element from the front of the queue.\n",
    "- - Peek: Return the element at the front of the queue without removing it.\n",
    "- - IsEmpty: Check if the queue is empty.\n",
    "- - IsFull: Since the linked list-based queue has no fixed capacity, this method always returns False.\n",
    "\n",
    "\n",
    "\n",
    "The time complexity of the enqueue and dequeue operations in a linked list-based queue is O(1), as we can easily update the front and rear pointers. This implementation is more flexible than the array-based queue, as it can dynamically grow or shrink in size without the need for a fixed capacity.\n",
    "\n"
   ]
  },
  {
   "cell_type": "code",
   "execution_count": 22,
   "metadata": {},
   "outputs": [],
   "source": [
    "class Node:\n",
    "    def __init__(self, data):\n",
    "        self.data = data\n",
    "        self.next = None\n",
    "\n",
    "class Queue:\n",
    "    def __init__(self):\n",
    "        self.front = None\n",
    "        self.rear = None\n",
    "        self.size = 0\n",
    "\n",
    "    def enqueue(self, element):\n",
    "        new_node = Node(element)\n",
    "        if self.rear is None:\n",
    "            self.front = self.rear = new_node\n",
    "        else:\n",
    "            self.rear.next = new_node\n",
    "            self.rear = new_node\n",
    "        self.size += 1\n",
    "\n",
    "    def dequeue(self):\n",
    "        if self.is_empty():\n",
    "            return \"Queue is empty\"\n",
    "        element = self.front.data\n",
    "        self.front = self.front.next\n",
    "        if self.front is None:\n",
    "            self.rear = None\n",
    "        self.size -= 1\n",
    "        return element\n",
    "\n",
    "    def peek(self):\n",
    "        if self.is_empty():\n",
    "            return \"Queue is empty\"\n",
    "        return self.front.data\n",
    "\n",
    "    def is_empty(self):\n",
    "        return self.size == 0\n",
    "\n",
    "    def is_full(self):\n",
    "        return False  # Linked list-based queue has no fixed capacity"
   ]
  },
  {
   "cell_type": "code",
   "execution_count": 23,
   "metadata": {},
   "outputs": [],
   "source": [
    "z = Queue()"
   ]
  },
  {
   "cell_type": "code",
   "execution_count": 24,
   "metadata": {},
   "outputs": [
    {
     "data": {
      "text/plain": [
       "True"
      ]
     },
     "execution_count": 24,
     "metadata": {},
     "output_type": "execute_result"
    }
   ],
   "source": [
    "z.is_empty()"
   ]
  },
  {
   "cell_type": "code",
   "execution_count": 25,
   "metadata": {},
   "outputs": [],
   "source": [
    "z.enqueue(55)\n",
    "z.enqueue(44)\n",
    "z.enqueue(99)"
   ]
  },
  {
   "cell_type": "code",
   "execution_count": 26,
   "metadata": {},
   "outputs": [
    {
     "data": {
      "text/plain": [
       "False"
      ]
     },
     "execution_count": 26,
     "metadata": {},
     "output_type": "execute_result"
    }
   ],
   "source": [
    "z.is_empty()"
   ]
  },
  {
   "cell_type": "code",
   "execution_count": 27,
   "metadata": {},
   "outputs": [
    {
     "data": {
      "text/plain": [
       "55"
      ]
     },
     "execution_count": 27,
     "metadata": {},
     "output_type": "execute_result"
    }
   ],
   "source": [
    "z.peek()"
   ]
  },
  {
   "cell_type": "code",
   "execution_count": 28,
   "metadata": {},
   "outputs": [
    {
     "data": {
      "text/plain": [
       "55"
      ]
     },
     "execution_count": 28,
     "metadata": {},
     "output_type": "execute_result"
    }
   ],
   "source": [
    "z.dequeue()"
   ]
  },
  {
   "cell_type": "code",
   "execution_count": 29,
   "metadata": {},
   "outputs": [
    {
     "data": {
      "text/plain": [
       "44"
      ]
     },
     "execution_count": 29,
     "metadata": {},
     "output_type": "execute_result"
    }
   ],
   "source": [
    "z.peek()"
   ]
  },
  {
   "cell_type": "code",
   "execution_count": null,
   "metadata": {},
   "outputs": [],
   "source": []
  }
 ],
 "metadata": {
  "kernelspec": {
   "display_name": "Python 3",
   "language": "python",
   "name": "python3"
  },
  "language_info": {
   "codemirror_mode": {
    "name": "ipython",
    "version": 3
   },
   "file_extension": ".py",
   "mimetype": "text/x-python",
   "name": "python",
   "nbconvert_exporter": "python",
   "pygments_lexer": "ipython3",
   "version": "3.12.6"
  }
 },
 "nbformat": 4,
 "nbformat_minor": 2
}
