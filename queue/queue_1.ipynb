{
 "cells": [
  {
   "cell_type": "markdown",
   "metadata": {},
   "source": [
    "# Queue"
   ]
  },
  {
   "cell_type": "code",
   "execution_count": null,
   "metadata": {},
   "outputs": [],
   "source": [
    "# Queue using Linkedlist (Nitish Sir)"
   ]
  },
  {
   "cell_type": "code",
   "execution_count": 2,
   "metadata": {},
   "outputs": [],
   "source": [
    "class Node:\n",
    "    def __init__(self,value):\n",
    "        self.data = value\n",
    "        self.next = None"
   ]
  },
  {
   "cell_type": "code",
   "execution_count": null,
   "metadata": {},
   "outputs": [],
   "source": [
    "class Queue:\n",
    "    \n",
    "    def __init__(self):\n",
    "        self.front = None\n",
    "        self.rear = None\n",
    "        \n",
    "    def enqueue(self,value):\n",
    "        new_node = Node(value)\n",
    "        \n",
    "        if self.rear == None:\n",
    "            self.front = new_node\n",
    "            self.rear = self.front\n",
    "        \n",
    "        else:\n",
    "            self.rear.next = new_node\n",
    "            self.rear = new_node\n",
    "            \n",
    "    def dequeue(self):\n",
    "        if self.front == None:\n",
    "            return \"Empty\"\n",
    "        else:\n",
    "            self.front = self.front.next\n",
    "            \n",
    "    def traverse(self):\n",
    "        temp = self.front\n",
    "        \n",
    "        while temp != None:\n",
    "            print(temp.data, end=' ')\n",
    "            temp = temp.next\n",
    "            \n",
    "    def is_empty(self):\n",
    "        if self.front == None:\n",
    "            return \"Empty Queue\"\n",
    "        \n",
    "            \n",
    "    def size(self):\n",
    "        temp = self.front\n",
    "        counter = 0\n",
    "        \n",
    "        while temp != None:\n",
    "            counter += 1\n",
    "            temp = temp.next\n",
    "            \n",
    "        return counter\n",
    "    \n",
    "    def front_item(self):\n",
    "        if self .front == None:\n",
    "            return \"Empty\"\n",
    "        else:\n",
    "            self.front.data\n",
    "            \n",
    "    def rear_item(self):\n",
    "        if self.rear == None:\n",
    "            return \"Empty\"\n",
    "        else:\n",
    "            self.rear.data\n",
    "        \n",
    "            \n",
    "            "
   ]
  },
  {
   "cell_type": "code",
   "execution_count": 28,
   "metadata": {},
   "outputs": [],
   "source": [
    "q = Queue()"
   ]
  },
  {
   "cell_type": "code",
   "execution_count": 29,
   "metadata": {},
   "outputs": [],
   "source": [
    "q.enqueue(44)\n",
    "q.enqueue(55)\n",
    "q.enqueue(66)"
   ]
  },
  {
   "cell_type": "code",
   "execution_count": 30,
   "metadata": {},
   "outputs": [
    {
     "name": "stdout",
     "output_type": "stream",
     "text": [
      "44 55 66 "
     ]
    }
   ],
   "source": [
    "q.traverse()"
   ]
  },
  {
   "cell_type": "code",
   "execution_count": 31,
   "metadata": {},
   "outputs": [
    {
     "data": {
      "text/plain": [
       "3"
      ]
     },
     "execution_count": 31,
     "metadata": {},
     "output_type": "execute_result"
    }
   ],
   "source": [
    "q.size()"
   ]
  },
  {
   "cell_type": "code",
   "execution_count": 32,
   "metadata": {},
   "outputs": [],
   "source": [
    "q.front_item()"
   ]
  },
  {
   "cell_type": "code",
   "execution_count": 33,
   "metadata": {},
   "outputs": [
    {
     "name": "stdout",
     "output_type": "stream",
     "text": [
      "44 55 66 "
     ]
    }
   ],
   "source": [
    "q.traverse()"
   ]
  },
  {
   "cell_type": "code",
   "execution_count": 34,
   "metadata": {},
   "outputs": [],
   "source": [
    "q.dequeue()"
   ]
  },
  {
   "cell_type": "code",
   "execution_count": 35,
   "metadata": {},
   "outputs": [
    {
     "name": "stdout",
     "output_type": "stream",
     "text": [
      "55 66 "
     ]
    }
   ],
   "source": [
    "q.traverse()"
   ]
  },
  {
   "cell_type": "code",
   "execution_count": null,
   "metadata": {},
   "outputs": [],
   "source": []
  }
 ],
 "metadata": {
  "kernelspec": {
   "display_name": "Python 3",
   "language": "python",
   "name": "python3"
  },
  "language_info": {
   "codemirror_mode": {
    "name": "ipython",
    "version": 3
   },
   "file_extension": ".py",
   "mimetype": "text/x-python",
   "name": "python",
   "nbconvert_exporter": "python",
   "pygments_lexer": "ipython3",
   "version": "3.12.6"
  }
 },
 "nbformat": 4,
 "nbformat_minor": 2
}
