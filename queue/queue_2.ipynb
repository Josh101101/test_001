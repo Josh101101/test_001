{
 "cells": [
  {
   "cell_type": "markdown",
   "metadata": {},
   "source": [
    "# Implementation of Queue using Arrays"
   ]
  },
  {
   "cell_type": "code",
   "execution_count": 43,
   "metadata": {},
   "outputs": [],
   "source": [
    "class ArrayQueue:\n",
    "    def __init__(self):\n",
    "        self.queue = []\n",
    "        \n",
    "    def enqueue(self,item):\n",
    "        self.queue.append(item)            # Add to the rear\n",
    "        print(f\"Enqueued : {item}  | Queue : {self.queue}\")\n",
    "        \n",
    "    def dequeue(self):\n",
    "        if not self.isempty():\n",
    "            removed = self.queue.pop(0)              # remove from the front\n",
    "            print(f\"Dequeued : {removed} | Queue : {self.queue}\")\n",
    "            return removed\n",
    "        else:\n",
    "            print(\"Queue is Empty!\")\n",
    "        \n",
    "    def isempty(self):\n",
    "        return len(self.queue) == 0\n",
    "    \n",
    "    def peek(self):\n",
    "        if not self.isempty():\n",
    "            return self.queue[0]\n",
    "        else:\n",
    "            print(\"Queue is empty!\")\n",
    "            \n",
    "    def size(self):\n",
    "        return len(self.queue)\n",
    "\n",
    "\n",
    "    "
   ]
  },
  {
   "cell_type": "code",
   "execution_count": 44,
   "metadata": {},
   "outputs": [],
   "source": [
    "z = ArrayQueue()"
   ]
  },
  {
   "cell_type": "code",
   "execution_count": 45,
   "metadata": {},
   "outputs": [
    {
     "name": "stdout",
     "output_type": "stream",
     "text": [
      "Enqueued : 54  | Queue : [54]\n"
     ]
    }
   ],
   "source": [
    "z.enqueue(54)\n"
   ]
  },
  {
   "cell_type": "code",
   "execution_count": 46,
   "metadata": {},
   "outputs": [
    {
     "name": "stdout",
     "output_type": "stream",
     "text": [
      "Enqueued : 55  | Queue : [54, 55]\n",
      "Enqueued : 66  | Queue : [54, 55, 66]\n",
      "Enqueued : 77  | Queue : [54, 55, 66, 77]\n"
     ]
    }
   ],
   "source": [
    "z.enqueue(55)\n",
    "z.enqueue(66)\n",
    "z.enqueue(77)"
   ]
  },
  {
   "cell_type": "code",
   "execution_count": 47,
   "metadata": {},
   "outputs": [
    {
     "name": "stdout",
     "output_type": "stream",
     "text": [
      "Dequeued : 54 | Queue : [55, 66, 77]\n"
     ]
    },
    {
     "data": {
      "text/plain": [
       "54"
      ]
     },
     "execution_count": 47,
     "metadata": {},
     "output_type": "execute_result"
    }
   ],
   "source": [
    "z.dequeue()"
   ]
  },
  {
   "cell_type": "code",
   "execution_count": 48,
   "metadata": {},
   "outputs": [
    {
     "name": "stdout",
     "output_type": "stream",
     "text": [
      "Dequeued : 55 | Queue : [66, 77]\n"
     ]
    },
    {
     "data": {
      "text/plain": [
       "55"
      ]
     },
     "execution_count": 48,
     "metadata": {},
     "output_type": "execute_result"
    }
   ],
   "source": [
    "z.dequeue()"
   ]
  },
  {
   "cell_type": "code",
   "execution_count": 49,
   "metadata": {},
   "outputs": [
    {
     "name": "stdout",
     "output_type": "stream",
     "text": [
      "Dequeued : 66 | Queue : [77]\n"
     ]
    },
    {
     "data": {
      "text/plain": [
       "66"
      ]
     },
     "execution_count": 49,
     "metadata": {},
     "output_type": "execute_result"
    }
   ],
   "source": [
    "z.dequeue()"
   ]
  },
  {
   "cell_type": "code",
   "execution_count": 50,
   "metadata": {},
   "outputs": [
    {
     "data": {
      "text/plain": [
       "[77]"
      ]
     },
     "execution_count": 50,
     "metadata": {},
     "output_type": "execute_result"
    }
   ],
   "source": [
    "z.queue"
   ]
  },
  {
   "cell_type": "code",
   "execution_count": 51,
   "metadata": {},
   "outputs": [
    {
     "data": {
      "text/plain": [
       "False"
      ]
     },
     "execution_count": 51,
     "metadata": {},
     "output_type": "execute_result"
    }
   ],
   "source": [
    "z.isempty()"
   ]
  },
  {
   "cell_type": "code",
   "execution_count": 52,
   "metadata": {},
   "outputs": [
    {
     "data": {
      "text/plain": [
       "77"
      ]
     },
     "execution_count": 52,
     "metadata": {},
     "output_type": "execute_result"
    }
   ],
   "source": [
    "z.peek()"
   ]
  },
  {
   "cell_type": "code",
   "execution_count": null,
   "metadata": {},
   "outputs": [],
   "source": []
  },
  {
   "cell_type": "markdown",
   "metadata": {},
   "source": [
    "# Array-based Queue Implementation\n",
    "- In an array-based queue implementation, we use an array to store the elements and maintain two pointers: front and rear. \n",
    "- The front pointer keeps track of the first element in the queue, and the rear pointer keeps track of the last element.\n",
    "\n",
    "\n",
    "- In this implementation, we use the modulo operator % to wrap around the array indices when the rear or front pointer reaches the end of the array. \n",
    "- This allows us to implement a circular queue, which can efficiently utilize the available space in the array.\n",
    "\n",
    "The main operations are:\n",
    "- - Enqueue: Add an element to the rear of the queue.\n",
    "- - Dequeue: Remove and return the element from the front of the queue.\n",
    "- - Peek: Return the element at the front of the queue without removing it.\n",
    "- - IsEmpty: Check if the queue is empty.\n",
    "- - IsFull: Check if the queue is full (has reached its maximum capacity).\n",
    "\n",
    "This array-based implementation provides constant-time complexity for the enqueue and dequeue operations, making it efficient for many applications."
   ]
  },
  {
   "cell_type": "code",
   "execution_count": null,
   "metadata": {},
   "outputs": [],
   "source": [
    "class Queue:\n",
    "    def __init__(self, capacity):\n",
    "        self.capacity = capacity\n",
    "        self.queue = [None] * capacity\n",
    "        self.front = 0\n",
    "        self.rear = -1\n",
    "        self.size = 0\n",
    "\n",
    "    def enqueue(self, element):\n",
    "        if self.size == self.capacity:\n",
    "            return \"Queue is full\"\n",
    "        self.rear = (self.rear + 1) % self.capacity\n",
    "        self.queue[self.rear] = element\n",
    "        self.size += 1\n",
    "\n",
    "    def dequeue(self):\n",
    "        if self.size == 0:\n",
    "            return \"Queue is empty\"\n",
    "        element = self.queue[self.front]\n",
    "        self.front = (self.front + 1) % self.capacity\n",
    "        self.size -= 1\n",
    "        return element\n",
    "\n",
    "    def peek(self):\n",
    "        if self.size == 0:\n",
    "            return \"Queue is empty\"\n",
    "        return self.queue[self.front]\n",
    "\n",
    "    def is_empty(self):\n",
    "        return self.size == 0\n",
    "\n",
    "    def is_full(self):\n",
    "        return self.size == self.capacity"
   ]
  },
  {
   "cell_type": "code",
   "execution_count": null,
   "metadata": {},
   "outputs": [],
   "source": []
  },
  {
   "cell_type": "code",
   "execution_count": null,
   "metadata": {},
   "outputs": [],
   "source": []
  }
 ],
 "metadata": {
  "kernelspec": {
   "display_name": "Python 3",
   "language": "python",
   "name": "python3"
  },
  "language_info": {
   "codemirror_mode": {
    "name": "ipython",
    "version": 3
   },
   "file_extension": ".py",
   "mimetype": "text/x-python",
   "name": "python",
   "nbconvert_exporter": "python",
   "pygments_lexer": "ipython3",
   "version": "3.12.6"
  }
 },
 "nbformat": 4,
 "nbformat_minor": 2
}
