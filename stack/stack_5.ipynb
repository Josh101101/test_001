{
 "cells": [
  {
   "cell_type": "code",
   "execution_count": null,
   "metadata": {},
   "outputs": [],
   "source": []
  },
  {
   "cell_type": "markdown",
   "metadata": {},
   "source": [
    "Balancing Parenthesis"
   ]
  },
  {
   "cell_type": "code",
   "execution_count": 1,
   "metadata": {},
   "outputs": [
    {
     "name": "stdout",
     "output_type": "stream",
     "text": [
      "True\n",
      "False\n",
      "True\n",
      "False\n",
      "True\n",
      "False\n"
     ]
    }
   ],
   "source": [
    "def is_balanced(expression):\n",
    "    # Dictionary to map closing brackets to opening brackets\n",
    "    matching_brackets = {')': '(', '}': '{', ']': '['}\n",
    "    stack = []\n",
    "\n",
    "    for char in expression:\n",
    "        # If it's an opening bracket, push onto the stack\n",
    "        if char in matching_brackets.values():\n",
    "            stack.append(char)\n",
    "        # If it's a closing bracket, check for matching\n",
    "        elif char in matching_brackets.keys():\n",
    "            # If the stack is empty or does not match, return False\n",
    "            if not stack or stack.pop() != matching_brackets[char]:\n",
    "                return False\n",
    "\n",
    "    # If the stack is empty, all brackets are balanced\n",
    "    return not stack\n",
    "\n",
    "# Test Cases\n",
    "print(is_balanced(\"({[]})\"))  # Output: True (balanced)\n",
    "print(is_balanced(\"([)]\"))    # Output: False (incorrect nesting)\n",
    "print(is_balanced(\"{[()]}\"))  # Output: True (balanced)\n",
    "print(is_balanced(\"{[(])}\"))  # Output: False (incorrect nesting)\n",
    "print(is_balanced(\"((()))\"))  # Output: True (balanced)\n",
    "print(is_balanced(\"(()\"))     # Output: False (unbalanced)\n"
   ]
  },
  {
   "cell_type": "code",
   "execution_count": 15,
   "metadata": {},
   "outputs": [],
   "source": [
    "def isBalanced(s : str) -> bool:\n",
    "    \n",
    "    box = []\n",
    "    \n",
    "    for i in s:\n",
    "        if i == '(' or i == '[' or i == '{':\n",
    "            box.append(i)\n",
    "            \n",
    "        else:\n",
    "            if len(box) == 0:\n",
    "                return False\n",
    "            \n",
    "            ch = box[-1]\n",
    "            box.pop()\n",
    "            \n",
    "            if (i == ')' and i == '(' ) or (i == ']' and i == '[' ) or (i == '}' and i == '{' ):\n",
    "                continue\n",
    "            else:\n",
    "                return False\n",
    "    return len(st) == 0\n",
    "\n",
    "    \n",
    "    \n",
    "    \n",
    "    \n"
   ]
  },
  {
   "cell_type": "code",
   "execution_count": 16,
   "metadata": {},
   "outputs": [
    {
     "name": "stdout",
     "output_type": "stream",
     "text": [
      "False\n"
     ]
    }
   ],
   "source": [
    "s = \"()\"\n",
    "if isBalanced(s):\n",
    "    print(\"True\")\n",
    "else:\n",
    "    print(\"False\")"
   ]
  },
  {
   "cell_type": "code",
   "execution_count": 11,
   "metadata": {},
   "outputs": [
    {
     "data": {
      "text/plain": [
       "False"
      ]
     },
     "execution_count": 11,
     "metadata": {},
     "output_type": "execute_result"
    }
   ],
   "source": [
    "isBalanced(s)"
   ]
  },
  {
   "cell_type": "code",
   "execution_count": null,
   "metadata": {},
   "outputs": [],
   "source": [
    "class Solution:\n",
    "    def isValid(self, s: str) -> bool:\n",
    "        stack = []\n",
    "\n",
    "        for char in s:\n",
    "            if char in ['(', '{', '[']:\n",
    "                stack.append(char)\n",
    "            else:\n",
    "                if len(stack) < 1: return False\n",
    "                if stack[-1] == '(' and char != ')' or stack[-1] == '{' and char != '}' or stack[-1] == '[' and char != ']': \n",
    "                    return False\n",
    "                else:\n",
    "                    stack.pop()\n",
    "\n",
    "        if len(stack) > 0: return False    \n",
    "                \n",
    "        return True "
   ]
  },
  {
   "cell_type": "code",
   "execution_count": null,
   "metadata": {},
   "outputs": [],
   "source": []
  },
  {
   "cell_type": "code",
   "execution_count": null,
   "metadata": {},
   "outputs": [],
   "source": []
  },
  {
   "cell_type": "code",
   "execution_count": null,
   "metadata": {},
   "outputs": [],
   "source": []
  },
  {
   "cell_type": "code",
   "execution_count": null,
   "metadata": {},
   "outputs": [],
   "source": []
  },
  {
   "cell_type": "code",
   "execution_count": null,
   "metadata": {},
   "outputs": [],
   "source": [
    "'''\n",
    "  Python Program to check for balanced parentheses in an expression using stack class.\n",
    "  Given an expression as string comprising of opening and closing characters\n",
    "  of parentheses - (), curly braces - {} and square brackets - [], we need to \n",
    "  check whether symbols are balanced or not. \n",
    "'''\n",
    "from collections import deque                       # importing \"double-ended queue\"\n",
    "\n",
    "\n",
    "class Stack:                                        # class for making a stack\n",
    "    def __init__(self):                             # constructor\n",
    "        self.control = deque()                      # initializing class object as a deque\n",
    "\n",
    "    def push(self, value):                          # function for appending stack\n",
    "        self.control.append(value)\n",
    "\n",
    "    def pop(self):                                  # function to pop out latest value\n",
    "        return self.control.pop()\n",
    "\n",
    "    def size(self):                                 # returns the size of stack\n",
    "        return len(self.control)\n",
    "\n",
    "    def is_empty(self):                             # returns if stack is empty or not\n",
    "        return len(self.control) == 0\n",
    "\n",
    "    def show(self):                                 # pops whole stack and prints it\n",
    "        for x in range(len(self.control)):\n",
    "            print(\"'\", end=\"\")\n",
    "            print(self.control.pop(), end=\"\")\n",
    "            print(\"'\", end=\",\")\n",
    "\n",
    "\n",
    "def parentheses_check(exp):                         # function for balancing parentheses\n",
    "    stack = Stack()\n",
    "    brackets = {'(': ')', '[': ']', '{': '}'}       # dict for storing brackets\n",
    "    for i in exp:                                   # loop to iterate over string\n",
    "        if i in brackets.keys():                    # check if it's opening bracket\n",
    "            stack.push(i)                           # append to stack\n",
    "        elif i in brackets.values():                # check if it's closing bracket\n",
    "            popped = \"\"\n",
    "            if not stack.is_empty():\n",
    "                popped = stack.pop()\n",
    "            \"\"\"\n",
    "                Below if condition checks following conditions:-\n",
    "                    (if encountered closing bracket first) or (if it is not the pair of popped bracket)\n",
    "            \"\"\"\n",
    "            if (stack.is_empty() and popped == \"\") or (i != brackets.get(popped)):\n",
    "                print(\"Not Balanced!\\nError: No opening brackets was found for: \", end=\"\")\n",
    "                print(\"'\", end=\"\")\n",
    "                print(i, end=\"\")\n",
    "                print(\"'\")\n",
    "                return\n",
    "    if stack.is_empty():                            # nothing in stack means all is well/balanced ;)\n",
    "        print(\"All Balanced! You are good to go.\")\n",
    "    else:\n",
    "        print(\"Not Balanced!\\nError: No closing brackets were found for: \", end=\"\")\n",
    "        stack.show()\n",
    "\n",
    "\n",
    "parentheses_check(\"{[(a+b)*c]/d}\")                  # parsing a string value (expression) for balance check"
   ]
  },
  {
   "cell_type": "code",
   "execution_count": null,
   "metadata": {},
   "outputs": [],
   "source": []
  },
  {
   "cell_type": "code",
   "execution_count": null,
   "metadata": {},
   "outputs": [],
   "source": []
  },
  {
   "cell_type": "code",
   "execution_count": null,
   "metadata": {},
   "outputs": [],
   "source": []
  },
  {
   "cell_type": "markdown",
   "metadata": {},
   "source": [
    "# Min Stack"
   ]
  },
  {
   "cell_type": "code",
   "execution_count": null,
   "metadata": {},
   "outputs": [],
   "source": [
    "class MinStack:\n",
    "\n",
    "    def __init__(self):\n",
    "        self.stack = []\n",
    "        self.minStack = []\n",
    "\n",
    "    def push(self, val: int) -> None:\n",
    "        self.stack.append(val)\n",
    "        if self.minStack:\n",
    "            val = min(self.minStack[-1],val)\n",
    "        self.minStack.append(val)\n",
    "\n",
    "    def pop(self) -> None:\n",
    "        self.stack.pop()\n",
    "        self.minStack.pop()\n",
    "\n",
    "    def top(self) -> int:\n",
    "        return self.stack[-1]\n",
    "\n",
    "    def getMin(self) -> int:\n",
    "        return self.minStack[-1]"
   ]
  },
  {
   "cell_type": "code",
   "execution_count": null,
   "metadata": {},
   "outputs": [],
   "source": [
    "class MinStack:\n",
    "\n",
    "    def __init__(self):\n",
    "        self.stack = []\n",
    "        self.min_stack = []\n",
    "         \n",
    "\n",
    "    def push(self, val: int) -> None:\n",
    "        self.stack.append(val)\n",
    "        if not self.min_stack or val <= self.min_stack[-1]:\n",
    "            self.min_stack.append(val)\n",
    "        else:\n",
    "            self.min_stack.append(self.min_stack[-1])\n",
    "        \n",
    "\n",
    "    def pop(self) -> None:\n",
    "        if not self.stack:\n",
    "            raise IndexError(\"Pop from an empty stack\")\n",
    "        \n",
    "        self.min_stack.pop()\n",
    "        return self.stack.pop()\n",
    "        \n",
    "\n",
    "    def top(self) -> int:\n",
    "        if not self.stack:\n",
    "            raise IndexError(\"Peek from an empty stack\")\n",
    "        return self.stack[-1]\n",
    "        \n",
    "\n",
    "    def getMin(self) -> int:\n",
    "        if not self.min_stack:\n",
    "            raise IndexError(\"Get min from an empty stack\")\n",
    "        return self.min_stack[-1]\n",
    "        \n",
    "\n",
    "\n",
    "# Your MinStack object will be instantiated and called as such:\n",
    "# obj = MinStack()\n",
    "# obj.push(val)\n",
    "# obj.pop()\n",
    "# param_3 = obj.top()\n",
    "# param_4 = obj.getMin()"
   ]
  }
 ],
 "metadata": {
  "kernelspec": {
   "display_name": "Python 3",
   "language": "python",
   "name": "python3"
  },
  "language_info": {
   "codemirror_mode": {
    "name": "ipython",
    "version": 3
   },
   "file_extension": ".py",
   "mimetype": "text/x-python",
   "name": "python",
   "nbconvert_exporter": "python",
   "pygments_lexer": "ipython3",
   "version": "3.12.6"
  }
 },
 "nbformat": 4,
 "nbformat_minor": 2
}
