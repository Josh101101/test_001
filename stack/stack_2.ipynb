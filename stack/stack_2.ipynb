{
 "cells": [
  {
   "cell_type": "markdown",
   "metadata": {},
   "source": [
    "Stack Implementation Using collections.deque"
   ]
  },
  {
   "cell_type": "code",
   "execution_count": null,
   "metadata": {},
   "outputs": [],
   "source": [
    "from collections import deque\n",
    "\n",
    "class Stack:\n",
    "    def __init__(self):\n",
    "        \"\"\"Initialize an empty stack using deque.\"\"\"\n",
    "        self.stack = deque()\n",
    "\n",
    "    def push(self, item):\n",
    "        \"\"\"Add an item to the top of the stack.\"\"\"\n",
    "        self.stack.append(item)\n",
    "\n",
    "    def pop(self):\n",
    "        \"\"\"\n",
    "        Remove and return the top item from the stack.\n",
    "        Raise an error if the stack is empty.\n",
    "        \"\"\"\n",
    "        if not self.is_empty():\n",
    "            return self.stack.pop()\n",
    "        raise IndexError(\"Pop from an empty stack\")\n",
    "\n",
    "    def peek(self):\n",
    "        \"\"\"\n",
    "        Return the top item without removing it.\n",
    "        Raise an error if the stack is empty.\n",
    "        \"\"\"\n",
    "        if not self.is_empty():\n",
    "            return self.stack[-1]\n",
    "        raise IndexError(\"Peek from an empty stack\")\n",
    "\n",
    "    def is_empty(self):\n",
    "        \"\"\"Check if the stack is empty.\"\"\"\n",
    "        return len(self.stack) == 0\n",
    "\n",
    "    def size(self):\n",
    "        \"\"\"Return the size of the stack.\"\"\"\n",
    "        return len(self.stack)\n",
    "\n",
    "\n"
   ]
  },
  {
   "cell_type": "code",
   "execution_count": null,
   "metadata": {},
   "outputs": [],
   "source": [
    "stack = Stack()\n",
    "stack.push(\"A\")\n",
    "stack.push(\"B\")\n",
    "stack.push(\"C\")\n",
    "print(f\"Top element: {stack.peek()}\")  # Output: C\n",
    "print(f\"Popped element: {stack.pop()}\")  # Output: C\n",
    "print(f\"Is stack empty? {stack.is_empty()}\")  # Output: False\n",
    "print(f\"Size of stack: {stack.size()}\")  # Output: 2\n"
   ]
  }
 ],
 "metadata": {
  "language_info": {
   "name": "python"
  }
 },
 "nbformat": 4,
 "nbformat_minor": 2
}
